{
 "cells": [
  {
   "cell_type": "code",
   "execution_count": 2,
   "id": "82f2e8d0-fefe-4902-a614-f4c59563b196",
   "metadata": {},
   "outputs": [],
   "source": [
    "import os\n",
    "import pandas as pd\n",
    "from PIL import Image\n",
    "from collections import defaultdict\n",
    "import shutil\n",
    "from sklearn.model_selection import train_test_split"
   ]
  },
  {
   "cell_type": "code",
   "execution_count": 4,
   "id": "bb019ec5-65a2-4655-9bed-5acc9ec98b6a",
   "metadata": {},
   "outputs": [],
   "source": [
    "# === Paths ===\n",
    "CSV_PATH = \"faces.csv\"\n",
    "IMAGES_DIR = \"images\"\n",
    "OUTPUT_DIR = \"clean_dataset\""
   ]
  },
  {
   "cell_type": "code",
   "execution_count": 6,
   "id": "edf7e89c-a1e7-4ef0-8100-698bcd4c301c",
   "metadata": {},
   "outputs": [],
   "source": [
    "# === Step 1: Load CSV ===\n",
    "df = pd.read_csv(CSV_PATH)\n",
    "df.columns = [c.strip().lower() for c in df.columns]\n",
    "required = ['image_name', 'width', 'height', 'x0', 'y0', 'x1', 'y1']\n",
    "if not all(col in df.columns for col in required):\n",
    "    raise ValueError(\"CSV missing required columns\")"
   ]
  },
  {
   "cell_type": "code",
   "execution_count": 8,
   "id": "88c3cd7c-53fa-4f71-b667-9634d5361eb7",
   "metadata": {},
   "outputs": [],
   "source": [
    "# === Step 2: Keep only valid image entries ===\n",
    "df['image_name'] = df['image_name'].astype(str).str.strip()\n",
    "image_files = {f for f in os.listdir(IMAGES_DIR) if f.lower().endswith(('.jpg', '.jpeg', '.png'))}\n",
    "df = df[df['image_name'].isin(image_files)]"
   ]
  },
  {
   "cell_type": "code",
   "execution_count": 10,
   "id": "8133cfd7-db36-4794-86ac-eba3d26dfb3e",
   "metadata": {},
   "outputs": [],
   "source": [
    "# === Step 3: Drop duplicates and invalid boxes ===\n",
    "df = df.drop_duplicates(subset=['image_name', 'x0', 'y0', 'x1', 'y1'])\n",
    "df = df[(df['x1'] > df['x0']) & (df['y1'] > df['y0'])]"
   ]
  },
  {
   "cell_type": "code",
   "execution_count": 12,
   "id": "9e217b21-06c8-4d05-88f9-f92898298ca6",
   "metadata": {},
   "outputs": [],
   "source": [
    "# === Step 4: Group by image ===\n",
    "grouped = defaultdict(list)\n",
    "for _, row in df.iterrows():\n",
    "    grouped[row['image_name']].append(row)"
   ]
  },
  {
   "cell_type": "code",
   "execution_count": 14,
   "id": "949a36a6-433b-4bda-a925-c016ab5a03fa",
   "metadata": {},
   "outputs": [],
   "source": [
    "# === Step 5: Remove images with no faces ===\n",
    "image_names = list(grouped.keys())"
   ]
  },
  {
   "cell_type": "code",
   "execution_count": 16,
   "id": "9df0641f-05f6-4271-b37e-bfdc3b40f3e7",
   "metadata": {},
   "outputs": [],
   "source": [
    "# === Step 6: Split into train/val ===\n",
    "train_imgs, val_imgs = train_test_split(image_names, test_size=0.2, random_state=42)\n",
    "splits = {'train': train_imgs, 'val': val_imgs}"
   ]
  },
  {
   "cell_type": "code",
   "execution_count": 18,
   "id": "d25ea222-9f36-459c-9474-114730c7e1ad",
   "metadata": {},
   "outputs": [],
   "source": [
    "# === Step 7: Create folders ===\n",
    "for split in ['train', 'val']:\n",
    "    os.makedirs(f\"{OUTPUT_DIR}/images/{split}\", exist_ok=True)\n",
    "    os.makedirs(f\"{OUTPUT_DIR}/labels/{split}\", exist_ok=True)"
   ]
  },
  {
   "cell_type": "code",
   "execution_count": 20,
   "id": "eefc5d6b-8c0b-4f0d-ba2c-2b78adaceac6",
   "metadata": {},
   "outputs": [
    {
     "name": "stdout",
     "output_type": "stream",
     "text": [
      "✅ Dataset cleaned and saved to: clean_dataset\n",
      "📁 Train images: 1763\n",
      "📁 Val images: 441\n"
     ]
    }
   ],
   "source": [
    "# === Step 8: Generate YOLO labels ===\n",
    "for split, img_list in splits.items():\n",
    "    for img_name in img_list:\n",
    "        src_path = os.path.join(IMAGES_DIR, img_name)\n",
    "        dst_img = os.path.join(OUTPUT_DIR, \"images\", split, img_name)\n",
    "        shutil.copy(src_path, dst_img)\n",
    "\n",
    "        label_path = os.path.join(OUTPUT_DIR, \"labels\", split, os.path.splitext(img_name)[0] + \".txt\")\n",
    "        with open(label_path, \"w\") as f:\n",
    "            for row in grouped[img_name]:\n",
    "                w, h = row['width'], row['height']\n",
    "                x_center = ((row['x0'] + row['x1']) / 2) / w\n",
    "                y_center = ((row['y0'] + row['y1']) / 2) / h\n",
    "                bw = (row['x1'] - row['x0']) / w\n",
    "                bh = (row['y1'] - row['y0']) / h\n",
    "                if 0 < bw <= 1 and 0 < bh <= 1:\n",
    "                    f.write(f\"0 {x_center:.6f} {y_center:.6f} {bw:.6f} {bh:.6f}\\n\")\n",
    "\n",
    "print(\"✅ Dataset cleaned and saved to:\", OUTPUT_DIR)\n",
    "print(\"📁 Train images:\", len(train_imgs))\n",
    "print(\"📁 Val images:\", len(val_imgs))"
   ]
  },
  {
   "cell_type": "code",
   "execution_count": 22,
   "id": "dc848a41-40bd-4153-aa9a-0e0427976030",
   "metadata": {},
   "outputs": [
    {
     "name": "stdout",
     "output_type": "stream",
     "text": [
      "\n",
      "🧠 Top 10 images with highest face counts:\n",
      "image_name\n",
      "00000657.jpg    12\n",
      "00003172.jpg    11\n",
      "00003165.jpg    11\n",
      "00000508.jpg    10\n",
      "00000609.jpg     9\n",
      "00000737.jpg     9\n",
      "00003361.jpg     9\n",
      "00000593.jpg     9\n",
      "00000578.jpg     9\n",
      "00000548.jpg     8\n",
      "dtype: int64\n",
      "\n",
      "✅ Total images with at least one face: 2204\n",
      "🚫 Images removed (no faces): 0\n"
     ]
    }
   ],
   "source": [
    "# === Step 9: Sanity check ===\n",
    "count_per_img = df.groupby('image_name').size().sort_values(ascending=False)\n",
    "print(\"\\n🧠 Top 10 images with highest face counts:\")\n",
    "print(count_per_img.head(10))\n",
    "print(\"\\n✅ Total images with at least one face:\", len(count_per_img))\n",
    "print(\"🚫 Images removed (no faces):\", len(image_files) - len(count_per_img))"
   ]
  },
  {
   "cell_type": "code",
   "execution_count": null,
   "id": "c72b9116-dfe6-42ee-98c2-c5eff47e981b",
   "metadata": {},
   "outputs": [],
   "source": []
  },
  {
   "cell_type": "code",
   "execution_count": null,
   "id": "1032de24-61ad-42f1-8548-87bb1a12774f",
   "metadata": {},
   "outputs": [],
   "source": []
  },
  {
   "cell_type": "code",
   "execution_count": null,
   "id": "cb81c185-0d59-4f76-86b3-afb75f63a8f1",
   "metadata": {},
   "outputs": [],
   "source": []
  },
  {
   "cell_type": "code",
   "execution_count": null,
   "id": "2cea3cf3-e7ae-47e9-b159-5e641cd8d05d",
   "metadata": {},
   "outputs": [],
   "source": []
  },
  {
   "cell_type": "code",
   "execution_count": null,
   "id": "d038a2d1-7606-4b76-8575-7b0d33dbd197",
   "metadata": {},
   "outputs": [],
   "source": []
  },
  {
   "cell_type": "code",
   "execution_count": null,
   "id": "278bfdad-99ad-4fdd-86c5-3f395e12dccf",
   "metadata": {},
   "outputs": [],
   "source": []
  },
  {
   "cell_type": "code",
   "execution_count": null,
   "id": "e1474baa-ee52-46fe-91e3-141017d94383",
   "metadata": {},
   "outputs": [],
   "source": []
  },
  {
   "cell_type": "code",
   "execution_count": null,
   "id": "acac03d2-9992-486a-852d-5556ecaa062c",
   "metadata": {},
   "outputs": [],
   "source": []
  },
  {
   "cell_type": "code",
   "execution_count": null,
   "id": "32428da7-8a96-48ef-9c89-abd7de69f546",
   "metadata": {},
   "outputs": [],
   "source": []
  },
  {
   "cell_type": "code",
   "execution_count": null,
   "id": "a4c6695d-00e4-403f-ab2a-d9d13d2a6c82",
   "metadata": {},
   "outputs": [],
   "source": []
  },
  {
   "cell_type": "code",
   "execution_count": null,
   "id": "a10ed197-05c4-4d6c-9544-d3338c11a2bf",
   "metadata": {},
   "outputs": [],
   "source": []
  },
  {
   "cell_type": "code",
   "execution_count": null,
   "id": "029d88e8-a256-4318-8ef9-071af749bc78",
   "metadata": {},
   "outputs": [],
   "source": []
  },
  {
   "cell_type": "code",
   "execution_count": null,
   "id": "ee5ab91f-fa99-49f6-86fb-c1805b5f9622",
   "metadata": {},
   "outputs": [],
   "source": []
  },
  {
   "cell_type": "code",
   "execution_count": null,
   "id": "b3dbb53f-ea55-4985-9174-4e95ed83c72d",
   "metadata": {},
   "outputs": [],
   "source": []
  },
  {
   "cell_type": "code",
   "execution_count": null,
   "id": "5dc13a07-4bca-4792-b600-5859969f4ed2",
   "metadata": {},
   "outputs": [],
   "source": []
  },
  {
   "cell_type": "code",
   "execution_count": null,
   "id": "fbf17c43-669d-4323-ab9e-13ea0378a4c6",
   "metadata": {},
   "outputs": [],
   "source": []
  },
  {
   "cell_type": "code",
   "execution_count": null,
   "id": "f93dd81d-4169-4e65-9d9f-396d56a90d06",
   "metadata": {},
   "outputs": [],
   "source": []
  }
 ],
 "metadata": {
  "kernelspec": {
   "display_name": "Python 3 (ipykernel)",
   "language": "python",
   "name": "python3"
  },
  "language_info": {
   "codemirror_mode": {
    "name": "ipython",
    "version": 3
   },
   "file_extension": ".py",
   "mimetype": "text/x-python",
   "name": "python",
   "nbconvert_exporter": "python",
   "pygments_lexer": "ipython3",
   "version": "3.12.7"
  }
 },
 "nbformat": 4,
 "nbformat_minor": 5
}
